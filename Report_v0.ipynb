{
 "cells": [
  {
   "cell_type": "markdown",
   "metadata": {},
   "source": [
    "# Energy Usage of an Office Building\n",
    "---\n",
    "---\n",
    "Group Members:\n",
    "- Jennie\n",
    "- Clemens\n",
    "- Josef\n",
    "- Leo\n",
    "- Burak\n",
    "---\n",
    "\n",
    "---\n",
    "## Introduction"
   ]
  },
  {
   "cell_type": "markdown",
   "metadata": {},
   "source": [
    "Predicting the energy usage is so important blabla... \n",
    "The purpose is to use all inputs and predict the energy consumption of the building. GitHub was used for... (link here)\n",
    "\n",
    "programming,simulation,modeliing --> Git / GitHub\n",
    "works is divided into subtasks 10 task\n",
    "\n",
    "I'm gonna finalize this part. (burak)\n"
   ]
  },
  {
   "cell_type": "markdown",
   "metadata": {},
   "source": [
    "## Cleaning the Data"
   ]
  },
  {
   "cell_type": "markdown",
   "metadata": {},
   "source": [
    "The main aim of data cleaning is to delete erros and duplicates, identify missing points and to create reliable datasets. It is a crucial first step for any project since cleaning the data means improving the quality of the training data for analytics and to enable accurate decision-making. \n",
    "\n",
    "Energy consumption data of the office building has been received for five years from two different trafos (Trafo-1 & Trafo-2). This data was analyzed, filtered and modified in advance and concluded that one year dataset which is in between \"26.03.2018 & 25.03.2019\" is the best for receiving accurate results. \n",
    "\n",
    "In addition to data cleaning, two different trafo data are combined together in one csv file and the total consumption of the office building was defined simply by adding the values from each trafo. "
   ]
  },
  {
   "cell_type": "markdown",
   "metadata": {},
   "source": [
    "## Weather Data - API Integration"
   ]
  },
  {
   "cell_type": "markdown",
   "metadata": {},
   "source": [
    "The suitable weather data for Kapfenberg has taken from 'OpenWeatherMap' website for the selected specific time period. \n",
    "\n",
    "Later on, the weather data has added to the csv file which was cleaned during the previous step. \n",
    "\n",
    "At this point, the csv data file is ready to be added and used for different machine learning models.\n",
    "See the data below: "
   ]
  },
  {
   "cell_type": "code",
   "execution_count": 8,
   "metadata": {},
   "outputs": [
    {
     "data": {
      "text/html": [
       "<div>\n",
       "<style scoped>\n",
       "    .dataframe tbody tr th:only-of-type {\n",
       "        vertical-align: middle;\n",
       "    }\n",
       "\n",
       "    .dataframe tbody tr th {\n",
       "        vertical-align: top;\n",
       "    }\n",
       "\n",
       "    .dataframe thead th {\n",
       "        text-align: right;\n",
       "    }\n",
       "</style>\n",
       "<table border=\"1\" class=\"dataframe\">\n",
       "  <thead>\n",
       "    <tr style=\"text-align: right;\">\n",
       "      <th></th>\n",
       "      <th>datetime</th>\n",
       "      <th>Trafo1</th>\n",
       "      <th>Trafo2</th>\n",
       "      <th>Trafo_Total</th>\n",
       "      <th>Month</th>\n",
       "      <th>Day</th>\n",
       "      <th>Hour</th>\n",
       "      <th>Workday</th>\n",
       "      <th>Min_Temp</th>\n",
       "      <th>Max_Temp</th>\n",
       "      <th>Feels_Like</th>\n",
       "      <th>Pressure</th>\n",
       "      <th>Humidity</th>\n",
       "      <th>Wind Speed</th>\n",
       "    </tr>\n",
       "  </thead>\n",
       "  <tbody>\n",
       "    <tr>\n",
       "      <th>0</th>\n",
       "      <td>2018-03-26 0:00</td>\n",
       "      <td>29.31</td>\n",
       "      <td>17.86</td>\n",
       "      <td>47.17</td>\n",
       "      <td>3</td>\n",
       "      <td>2</td>\n",
       "      <td>0</td>\n",
       "      <td>1</td>\n",
       "      <td>-4.70</td>\n",
       "      <td>2.2</td>\n",
       "      <td>-5.23</td>\n",
       "      <td>1012</td>\n",
       "      <td>97</td>\n",
       "      <td>1.18</td>\n",
       "    </tr>\n",
       "    <tr>\n",
       "      <th>1</th>\n",
       "      <td>2018-03-26 1:00</td>\n",
       "      <td>29.06</td>\n",
       "      <td>19.58</td>\n",
       "      <td>48.64</td>\n",
       "      <td>3</td>\n",
       "      <td>2</td>\n",
       "      <td>1</td>\n",
       "      <td>1</td>\n",
       "      <td>-5.20</td>\n",
       "      <td>2.7</td>\n",
       "      <td>-4.92</td>\n",
       "      <td>1012</td>\n",
       "      <td>94</td>\n",
       "      <td>1.00</td>\n",
       "    </tr>\n",
       "    <tr>\n",
       "      <th>2</th>\n",
       "      <td>2018-03-26 2:00</td>\n",
       "      <td>30.40</td>\n",
       "      <td>18.18</td>\n",
       "      <td>48.58</td>\n",
       "      <td>3</td>\n",
       "      <td>2</td>\n",
       "      <td>2</td>\n",
       "      <td>1</td>\n",
       "      <td>-5.70</td>\n",
       "      <td>2.0</td>\n",
       "      <td>-5.48</td>\n",
       "      <td>1012</td>\n",
       "      <td>92</td>\n",
       "      <td>1.00</td>\n",
       "    </tr>\n",
       "    <tr>\n",
       "      <th>3</th>\n",
       "      <td>2018-03-26 3:00</td>\n",
       "      <td>30.02</td>\n",
       "      <td>16.83</td>\n",
       "      <td>46.85</td>\n",
       "      <td>3</td>\n",
       "      <td>2</td>\n",
       "      <td>3</td>\n",
       "      <td>1</td>\n",
       "      <td>-5.00</td>\n",
       "      <td>1.7</td>\n",
       "      <td>-5.10</td>\n",
       "      <td>1012</td>\n",
       "      <td>93</td>\n",
       "      <td>0.52</td>\n",
       "    </tr>\n",
       "    <tr>\n",
       "      <th>4</th>\n",
       "      <td>2018-03-26 4:00</td>\n",
       "      <td>30.91</td>\n",
       "      <td>17.54</td>\n",
       "      <td>48.45</td>\n",
       "      <td>3</td>\n",
       "      <td>2</td>\n",
       "      <td>4</td>\n",
       "      <td>1</td>\n",
       "      <td>-4.64</td>\n",
       "      <td>0.0</td>\n",
       "      <td>-5.64</td>\n",
       "      <td>1012</td>\n",
       "      <td>93</td>\n",
       "      <td>1.00</td>\n",
       "    </tr>\n",
       "    <tr>\n",
       "      <th>...</th>\n",
       "      <td>...</td>\n",
       "      <td>...</td>\n",
       "      <td>...</td>\n",
       "      <td>...</td>\n",
       "      <td>...</td>\n",
       "      <td>...</td>\n",
       "      <td>...</td>\n",
       "      <td>...</td>\n",
       "      <td>...</td>\n",
       "      <td>...</td>\n",
       "      <td>...</td>\n",
       "      <td>...</td>\n",
       "      <td>...</td>\n",
       "      <td>...</td>\n",
       "    </tr>\n",
       "    <tr>\n",
       "      <th>8755</th>\n",
       "      <td>2019-03-25 19:00</td>\n",
       "      <td>49.54</td>\n",
       "      <td>26.88</td>\n",
       "      <td>76.42</td>\n",
       "      <td>3</td>\n",
       "      <td>2</td>\n",
       "      <td>19</td>\n",
       "      <td>1</td>\n",
       "      <td>-2.30</td>\n",
       "      <td>8.4</td>\n",
       "      <td>-1.54</td>\n",
       "      <td>1016</td>\n",
       "      <td>41</td>\n",
       "      <td>4.00</td>\n",
       "    </tr>\n",
       "    <tr>\n",
       "      <th>8756</th>\n",
       "      <td>2019-03-25 20:00</td>\n",
       "      <td>42.37</td>\n",
       "      <td>20.86</td>\n",
       "      <td>63.23</td>\n",
       "      <td>3</td>\n",
       "      <td>2</td>\n",
       "      <td>20</td>\n",
       "      <td>1</td>\n",
       "      <td>-3.00</td>\n",
       "      <td>7.8</td>\n",
       "      <td>-3.70</td>\n",
       "      <td>1017</td>\n",
       "      <td>48</td>\n",
       "      <td>6.00</td>\n",
       "    </tr>\n",
       "    <tr>\n",
       "      <th>8757</th>\n",
       "      <td>2019-03-25 21:00</td>\n",
       "      <td>40.58</td>\n",
       "      <td>12.54</td>\n",
       "      <td>53.12</td>\n",
       "      <td>3</td>\n",
       "      <td>2</td>\n",
       "      <td>21</td>\n",
       "      <td>1</td>\n",
       "      <td>-2.20</td>\n",
       "      <td>7.1</td>\n",
       "      <td>-0.42</td>\n",
       "      <td>1018</td>\n",
       "      <td>60</td>\n",
       "      <td>2.00</td>\n",
       "    </tr>\n",
       "    <tr>\n",
       "      <th>8758</th>\n",
       "      <td>2019-03-25 22:00</td>\n",
       "      <td>38.14</td>\n",
       "      <td>20.61</td>\n",
       "      <td>58.75</td>\n",
       "      <td>3</td>\n",
       "      <td>2</td>\n",
       "      <td>22</td>\n",
       "      <td>1</td>\n",
       "      <td>-2.30</td>\n",
       "      <td>6.9</td>\n",
       "      <td>-1.94</td>\n",
       "      <td>1019</td>\n",
       "      <td>53</td>\n",
       "      <td>3.34</td>\n",
       "    </tr>\n",
       "    <tr>\n",
       "      <th>8759</th>\n",
       "      <td>2019-03-25 23:00</td>\n",
       "      <td>29.18</td>\n",
       "      <td>17.41</td>\n",
       "      <td>46.59</td>\n",
       "      <td>3</td>\n",
       "      <td>2</td>\n",
       "      <td>23</td>\n",
       "      <td>1</td>\n",
       "      <td>-2.50</td>\n",
       "      <td>6.9</td>\n",
       "      <td>-2.17</td>\n",
       "      <td>1020</td>\n",
       "      <td>53</td>\n",
       "      <td>2.98</td>\n",
       "    </tr>\n",
       "  </tbody>\n",
       "</table>\n",
       "<p>8760 rows × 14 columns</p>\n",
       "</div>"
      ],
      "text/plain": [
       "              datetime  Trafo1  Trafo2  Trafo_Total  Month  Day  Hour  \\\n",
       "0      2018-03-26 0:00   29.31   17.86        47.17      3    2     0   \n",
       "1      2018-03-26 1:00   29.06   19.58        48.64      3    2     1   \n",
       "2      2018-03-26 2:00   30.40   18.18        48.58      3    2     2   \n",
       "3      2018-03-26 3:00   30.02   16.83        46.85      3    2     3   \n",
       "4      2018-03-26 4:00   30.91   17.54        48.45      3    2     4   \n",
       "...                ...     ...     ...          ...    ...  ...   ...   \n",
       "8755  2019-03-25 19:00   49.54   26.88        76.42      3    2    19   \n",
       "8756  2019-03-25 20:00   42.37   20.86        63.23      3    2    20   \n",
       "8757  2019-03-25 21:00   40.58   12.54        53.12      3    2    21   \n",
       "8758  2019-03-25 22:00   38.14   20.61        58.75      3    2    22   \n",
       "8759  2019-03-25 23:00   29.18   17.41        46.59      3    2    23   \n",
       "\n",
       "      Workday  Min_Temp  Max_Temp  Feels_Like  Pressure  Humidity  Wind Speed  \n",
       "0           1     -4.70       2.2       -5.23      1012        97        1.18  \n",
       "1           1     -5.20       2.7       -4.92      1012        94        1.00  \n",
       "2           1     -5.70       2.0       -5.48      1012        92        1.00  \n",
       "3           1     -5.00       1.7       -5.10      1012        93        0.52  \n",
       "4           1     -4.64       0.0       -5.64      1012        93        1.00  \n",
       "...       ...       ...       ...         ...       ...       ...         ...  \n",
       "8755        1     -2.30       8.4       -1.54      1016        41        4.00  \n",
       "8756        1     -3.00       7.8       -3.70      1017        48        6.00  \n",
       "8757        1     -2.20       7.1       -0.42      1018        60        2.00  \n",
       "8758        1     -2.30       6.9       -1.94      1019        53        3.34  \n",
       "8759        1     -2.50       6.9       -2.17      1020        53        2.98  \n",
       "\n",
       "[8760 rows x 14 columns]"
      ]
     },
     "execution_count": 8,
     "metadata": {},
     "output_type": "execute_result"
    }
   ],
   "source": [
    "dataset=pd.read_csv('TotalTrafo.csv')\n",
    "dataset"
   ]
  },
  {
   "cell_type": "markdown",
   "metadata": {},
   "source": [
    "## Machine Learning Models"
   ]
  },
  {
   "cell_type": "markdown",
   "metadata": {},
   "source": [
    "3? different models applied... short explanation in general about ML may be. "
   ]
  },
  {
   "cell_type": "markdown",
   "metadata": {},
   "source": [
    "## 1) Linear Regression"
   ]
  },
  {
   "cell_type": "markdown",
   "metadata": {},
   "source": [
    "Linear Regression attempts to model the relationship between two variables by setting a linear equation to the observed data. \n",
    "One variable is considered to be an explanatory variable and the other is considered to be a dependent variable. \n",
    "\n",
    "Linear Regression can be used in two ways; \n",
    "- 1- To establish if there is a relation between two variables,\n",
    "- 2- Forecast new observations; what we already have can be used to focus on unobserved values."
   ]
  },
  {
   "cell_type": "markdown",
   "metadata": {},
   "source": [
    "---\n",
    "---\n",
    "Below the code for machine learning \"Linear Regression\" model.\n",
    "Note: In order to use the code, your data must be saved as \"TotalTrafo.csv\" in the same folder as this code."
   ]
  },
  {
   "cell_type": "markdown",
   "metadata": {},
   "source": [
    "- Import necessary tools and the csv file \"TotalTrafo\":"
   ]
  },
  {
   "cell_type": "code",
   "execution_count": 3,
   "metadata": {},
   "outputs": [],
   "source": [
    "import matplotlib.pyplot as plt\n",
    "from sklearn import datasets\n",
    "import pandas as pd\n",
    "import numpy as np\n",
    "%matplotlib inline\n",
    "data = pd.read_csv(\"TotalTrafo.csv\")"
   ]
  },
  {
   "cell_type": "markdown",
   "metadata": {},
   "source": [
    "- Look at the data and shape it, so the right format is used and it can be seperated:"
   ]
  },
  {
   "cell_type": "code",
   "execution_count": 5,
   "metadata": {},
   "outputs": [
    {
     "data": {
      "text/plain": [
       "pandas.core.series.Series"
      ]
     },
     "execution_count": 5,
     "metadata": {},
     "output_type": "execute_result"
    }
   ],
   "source": [
    "dir(data)\n",
    "type(data.Trafo_Total)"
   ]
  },
  {
   "cell_type": "code",
   "execution_count": null,
   "metadata": {},
   "outputs": [],
   "source": []
  },
  {
   "cell_type": "code",
   "execution_count": null,
   "metadata": {},
   "outputs": [],
   "source": []
  },
  {
   "cell_type": "code",
   "execution_count": null,
   "metadata": {},
   "outputs": [],
   "source": []
  },
  {
   "cell_type": "code",
   "execution_count": null,
   "metadata": {},
   "outputs": [],
   "source": []
  },
  {
   "cell_type": "markdown",
   "metadata": {},
   "source": [
    "## 1.1) Results "
   ]
  },
  {
   "cell_type": "code",
   "execution_count": null,
   "metadata": {},
   "outputs": [],
   "source": []
  },
  {
   "cell_type": "markdown",
   "metadata": {},
   "source": [
    "## 2) Support Vector Regression "
   ]
  },
  {
   "cell_type": "markdown",
   "metadata": {},
   "source": []
  },
  {
   "cell_type": "markdown",
   "metadata": {},
   "source": [
    "## 2.1) Results"
   ]
  },
  {
   "cell_type": "code",
   "execution_count": null,
   "metadata": {},
   "outputs": [],
   "source": []
  },
  {
   "cell_type": "markdown",
   "metadata": {},
   "source": [
    "## 3) Tree Regression "
   ]
  },
  {
   "cell_type": "code",
   "execution_count": null,
   "metadata": {},
   "outputs": [],
   "source": []
  },
  {
   "cell_type": "markdown",
   "metadata": {},
   "source": [
    "## 3.1) Results"
   ]
  },
  {
   "cell_type": "code",
   "execution_count": null,
   "metadata": {},
   "outputs": [],
   "source": []
  },
  {
   "cell_type": "markdown",
   "metadata": {},
   "source": [
    "## Comments on Results "
   ]
  },
  {
   "cell_type": "code",
   "execution_count": null,
   "metadata": {},
   "outputs": [],
   "source": []
  },
  {
   "cell_type": "markdown",
   "metadata": {},
   "source": [
    "## Summary"
   ]
  },
  {
   "cell_type": "code",
   "execution_count": null,
   "metadata": {},
   "outputs": [],
   "source": []
  }
 ],
 "metadata": {
  "kernelspec": {
   "display_name": "Python 3",
   "language": "python",
   "name": "python3"
  },
  "language_info": {
   "codemirror_mode": {
    "name": "ipython",
    "version": 3
   },
   "file_extension": ".py",
   "mimetype": "text/x-python",
   "name": "python",
   "nbconvert_exporter": "python",
   "pygments_lexer": "ipython3",
   "version": "3.8.5"
  }
 },
 "nbformat": 4,
 "nbformat_minor": 4
}
